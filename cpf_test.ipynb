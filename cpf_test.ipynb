{
  "nbformat": 4,
  "nbformat_minor": 0,
  "metadata": {
    "colab": {
      "provenance": [],
      "collapsed_sections": [],
      "authorship_tag": "ABX9TyM9PVj9fvA8KugCKS6Ap31+",
      "include_colab_link": true
    },
    "kernelspec": {
      "name": "python3",
      "display_name": "Python 3"
    },
    "language_info": {
      "name": "python"
    }
  },
  "cells": [
    {
      "cell_type": "markdown",
      "metadata": {
        "id": "view-in-github",
        "colab_type": "text"
      },
      "source": [
        "<a href=\"https://colab.research.google.com/github/PaulAnicet97/Exercices/blob/main/cpf_test.ipynb\" target=\"_parent\"><img src=\"https://colab.research.google.com/assets/colab-badge.svg\" alt=\"Open In Colab\"/></a>"
      ]
    },
    {
      "cell_type": "code",
      "execution_count": 3,
      "metadata": {
        "colab": {
          "base_uri": "https://localhost:8080/"
        },
        "id": "jgae4ZFqLPEM",
        "outputId": "2f25f792-a3e6-4890-953d-2b6aae1e1010"
      },
      "outputs": [
        {
          "output_type": "stream",
          "name": "stdout",
          "text": [
            "CPF: 12345678878\n",
            "Vish o CPF digitado não é VALIDO.\n"
          ]
        }
      ],
      "source": [
        "user = input(\"CPF: \")\n",
        "numero = list(user[:9]) # selectiona os 9 primeiros numeros\n",
        "produto_numero_j = [int(a) * b for a , b in zip(numero , list(reversed(range(2 , 11))))] # multiplica cada digito na lista numero \n",
        "soma_numero_j = sum(int(i) for i in produto_numero_j) # soma todos os numeros na lista de produto\n",
        "produto_numero_k = [int(a) * b for a , b in zip(numero , list(reversed(range(2 , 12))))]\n",
        "soma_numero_k = sum(int(i) for i in produto_numero_k)\n",
        "regiao_fiscal = {0:[\"RS\"], 1: [\"DF\", \"GO\",\" MS\", \"MT\" , \"TO\"], 2: [\"AC\", \"AM\", \"AP\", \"PA\", \"RO\" , \"RR\"] , 3 : [\"CE\", \"MA\" , \"PI\"]\\\n",
        ", 4:[\"AL\", \"PB\", \"PE\", \"RN\"], 5: [\"BA\" , \"SE\"], 6 : [\"MG\"] , 7:[\"ES\", \"RJ\"] , 8:[\"SP\"], 9:[\"PR\", \"SC\"]}\n",
        "\n",
        "if user.isdigit() == False or len(user) != 11 : \n",
        "  print(\"O CPF deve ser 11 digitos!\")\n",
        "else:\n",
        "  ver_j = soma_numero_j % 11\n",
        "  ver_k = soma_numero_k % 11\n",
        "  if ver_j == 0 and int(user[9]) == 0  or ver_j == 1 and int(user[9]) == 0:\n",
        "    pass\n",
        "  elif ver_j in list(range(2,11)) and int(user[9]) == (11 - ver_j):\n",
        "      if ver_k == 0 and int(user[10]) == 0  or ver_k == 1 and int(user[10]) == 0:\n",
        "        pass\n",
        "      elif ver_k in list(range(2,11)) and int(user[10]) == (11 - ver_k):\n",
        "        pass\n",
        "      local_0 = [regiao_fiscal[i]  for i in list(regiao_fiscal.keys()) if i == int(user[8])]\n",
        "      local = \" , \".join(local_0[0])\n",
        "      a , b , c , d = user[:3] , user[3:6] , user[6:9] , user[9:]\n",
        "      print(f\"Tudo certo o CPF: {a}.{b}.{c}-{d} É VALIDO. Foi emitido num dos estados seguintes: {local}. \")\n",
        "  else:\n",
        "    print(\"Vish o CPF digitado não é VALIDO.\")"
      ]
    },
    {
      "cell_type": "code",
      "source": [],
      "metadata": {
        "id": "Agvd72rt8fal"
      },
      "execution_count": null,
      "outputs": []
    }
  ]
}